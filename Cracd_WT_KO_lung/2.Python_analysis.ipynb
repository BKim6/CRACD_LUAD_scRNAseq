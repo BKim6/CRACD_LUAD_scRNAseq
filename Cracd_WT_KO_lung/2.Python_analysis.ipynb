{
 "cells": [
  {
   "cell_type": "code",
   "execution_count": null,
   "id": "5bac130b-79e0-4a81-99dd-747c3dd33126",
   "metadata": {},
   "outputs": [],
   "source": [
    "import numpy as np\n",
    "import pandas as pd\n",
    "import scanpy as sc\n",
    "import scanpy.external as sce\n",
    "import scipy\n",
    "sc.settings.verbosity = 3\n",
    "sc.logging.print_header()\n",
    "sc.set_figure_params(dpi=100, dpi_save=600)"
   ]
  },
  {
   "cell_type": "code",
   "execution_count": null,
   "id": "1595f4b7-6b1f-4e26-a775-a331d127a9c1",
   "metadata": {},
   "outputs": [],
   "source": [
    "\n",
    "import matplotlib as mp\n",
    "import matplotlib.pyplot as pl\n",
    "from matplotlib import rcParams\n",
    "import matplotlib as mpl\n",
    "import os"
   ]
  },
  {
   "cell_type": "code",
   "execution_count": null,
   "id": "941140c2-6025-47f3-b388-f96deba22f99",
   "metadata": {},
   "outputs": [],
   "source": [
    "#read data"
   ]
  },
  {
   "cell_type": "code",
   "execution_count": null,
   "id": "5bfaccec-aa60-4953-bb53-877937f720cc",
   "metadata": {},
   "outputs": [],
   "source": [
    "adata_WT = sc.read(filename='/Users/bkim6/Desktop/BJ/SZ_Cracd_KO/H5AD/For_NCBI/CracdWT.h5ad')"
   ]
  },
  {
   "cell_type": "code",
   "execution_count": null,
   "id": "3c1452a6-db03-4a2e-9c7c-a24888c19030",
   "metadata": {},
   "outputs": [],
   "source": [
    "adata_KO = sc.read(filename='/Users/bkim6/Desktop/BJ/SZ_Cracd_KO/H5AD/For_NCBI/CracdKO.h5ad')"
   ]
  },
  {
   "cell_type": "code",
   "execution_count": null,
   "id": "71037b5a-c72c-4676-893d-120609f175a5",
   "metadata": {},
   "outputs": [],
   "source": [
    "#combine data"
   ]
  },
  {
   "cell_type": "code",
   "execution_count": null,
   "id": "63f469c1-a74e-4eef-9e3c-df14230b3d92",
   "metadata": {},
   "outputs": [],
   "source": [
    "adata = adata_WT.concatenate(adata_KO)"
   ]
  },
  {
   "cell_type": "code",
   "execution_count": null,
   "id": "b8e18858-1168-4563-ae73-f28d45503863",
   "metadata": {},
   "outputs": [],
   "source": [
    "sc.pl.umap(adata, color=['leiden'])"
   ]
  },
  {
   "cell_type": "code",
   "execution_count": null,
   "id": "ac063bf2-d4cc-42b5-ab84-212ae306cc74",
   "metadata": {},
   "outputs": [],
   "source": [
    "new_cluster_names = [\n",
    "    'CracdWT', 'CracdKO']\n",
    "adata.rename_categories('batch', new_cluster_names)"
   ]
  },
  {
   "cell_type": "code",
   "execution_count": null,
   "id": "ed48f707-09dc-440d-93f0-d43719dca995",
   "metadata": {},
   "outputs": [],
   "source": [
    "adata.obs['celltype']=adata.obs['leiden']"
   ]
  },
  {
   "cell_type": "code",
   "execution_count": null,
   "id": "4f6e6a62-ab28-4563-9f5b-6e6a3d491744",
   "metadata": {},
   "outputs": [],
   "source": [
    "new_cluster_names = ['AT2-1', 'Ciliated-1', 'AT2-2', 'AT2-3', 'AT2-4',\n",
    "                    'AT2-5', 'AT2-6', 'Mesenchymal-1', 'Endothelial', 'Club',\n",
    "                    'AT2-7', 'Ciliated-2', 'AT1', 'Basal', 'Proliferation', 'AT2-8',\n",
    "                    'Immune-1', 'NE', 'Mesenchymal-2', 'Immune-2']\n",
    "adata.rename_categories('celltype', new_cluster_names)"
   ]
  },
  {
   "cell_type": "code",
   "execution_count": null,
   "id": "c785f3e6-1282-4fd0-8881-78746e529182",
   "metadata": {},
   "outputs": [],
   "source": [
    "adata.obs['celltype'].cat.reorder_categories(['AT1', 'AT2-1', 'AT2-2', 'AT2-3', 'AT2-4',\n",
    "                    'AT2-5', 'AT2-6', 'AT2-7', 'AT2-8', 'Basal',\n",
    "                                             'Ciliated-1', 'Ciliated-2', 'Club',\n",
    "                                             'NE', 'Proliferation', 'Endothelial',\n",
    "                                             'Immune-1', 'Immune-2', 'Mesenchymal-1', 'Mesenchymal-2'], inplace=True)"
   ]
  },
  {
   "cell_type": "code",
   "execution_count": null,
   "id": "ad6728bf-373c-4d41-a196-6adbf66a4429",
   "metadata": {},
   "outputs": [],
   "source": [
    "#Umap by celltype"
   ]
  },
  {
   "cell_type": "code",
   "execution_count": null,
   "id": "73eaad30-9f04-4f32-9160-df6305eb7c29",
   "metadata": {},
   "outputs": [],
   "source": [
    "sc.pl.umap(adata, color=['celltype'],\n",
    "          save = 'combined_umap.pdf')"
   ]
  },
  {
   "cell_type": "code",
   "execution_count": null,
   "id": "9419dec6-56fd-427f-b41b-7ef01b7e866d",
   "metadata": {},
   "outputs": [],
   "source": [
    "#Marker genes"
   ]
  },
  {
   "cell_type": "code",
   "execution_count": null,
   "id": "21a3e8fe-ef76-4763-8774-7d3d7cc9ad4c",
   "metadata": {},
   "outputs": [],
   "source": [
    "sc.pl.dotplot(adata, ['Trp63', 'Krt5', 'Calca', 'Chga', 'Reg3g', 'Scgb3a1', 'Ccdc153',\n",
    "                      'Foxj1', 'Scgb3a2', 'Scgb1a1', 'Krt8', 'Sftpa1', 'Sftpc', 'Pdpn', \n",
    "                     'Hopx', 'Ager', 'Mki67', 'Top2a', 'Epcam', 'Ptprc', 'Pecam1', 'Eln',\n",
    "                     'Col1a1'], groupby='celltype', swap_axes=True,\n",
    "                        save='Dotplot_celltype_marker.pdf')\n",
    "\n"
   ]
  },
  {
   "cell_type": "code",
   "execution_count": null,
   "id": "b73a2581-66ce-4c79-b426-6888d4e2b504",
   "metadata": {},
   "outputs": [],
   "source": [
    "sc.pl.umap(adata, color=['Epcam', 'Ptprc', 'Pecam1', 'Col1a1'],\n",
    "           save='Lung_marker_feature.pdf',\n",
    "           legend_loc='right margin', frameon=False, add_outline=True, vmin=0, vmax=4,\n",
    "           outline_width=(0.05,0.05), size=50, use_raw=True, cmap='Reds')"
   ]
  },
  {
   "cell_type": "code",
   "execution_count": null,
   "id": "d1809625-c02f-4017-be7b-c5202847cf19",
   "metadata": {},
   "outputs": [],
   "source": [
    "sc.pl.umap(adata, color=['Mki67', 'Ager', 'Krt8'],\n",
    "           save='Lung_marker_feature2.pdf',\n",
    "           legend_loc='right margin', frameon=False, add_outline=True, vmin=0, vmax=4,\n",
    "           outline_width=(0.05,0.05), size=50, use_raw=True, cmap='Reds')"
   ]
  },
  {
   "cell_type": "code",
   "execution_count": null,
   "id": "945c04da-1f1e-4522-8952-8cec33925673",
   "metadata": {},
   "outputs": [],
   "source": [
    "sc.pl.umap(adata, color=['Foxj1', 'Chga', 'Krt5'],\n",
    "           save='Lung_marker_feature3.pdf',\n",
    "           legend_loc='right margin', frameon=False, add_outline=True, vmin=0, vmax=4,\n",
    "           outline_width=(0.05,0.05), size=50, use_raw=True, cmap='Reds')"
   ]
  },
  {
   "cell_type": "code",
   "execution_count": null,
   "id": "b2f97752-fcee-4b13-a312-725d11edcb47",
   "metadata": {},
   "outputs": [],
   "source": [
    "sc.pl.umap(adata, color=['Scgb1a1', 'Sftpc'],\n",
    "           save='Lung_marker_feature4.pdf',\n",
    "           legend_loc='right margin', frameon=False, add_outline=True, vmin=0, vmax = 8,\n",
    "           outline_width=(0.05,0.05), size=50, use_raw=True, cmap='Reds')"
   ]
  },
  {
   "cell_type": "code",
   "execution_count": null,
   "id": "ac4b845f-4f6d-49f3-bf6d-8d5978684b3f",
   "metadata": {},
   "outputs": [],
   "source": [
    "#Cluster specific genes"
   ]
  },
  {
   "cell_type": "code",
   "execution_count": null,
   "id": "f5143aa0-4162-4b7e-bc5a-523295805616",
   "metadata": {},
   "outputs": [],
   "source": [
    "sc.tl.rank_genes_groups(adata, 'celltype', method='wilcoxon')\n",
    "sc.pl.rank_genes_groups(adata, n_genes=25, sharey=False)"
   ]
  },
  {
   "cell_type": "code",
   "execution_count": null,
   "id": "fa054dad-a9d9-4333-87e0-173acdbe51a4",
   "metadata": {},
   "outputs": [],
   "source": [
    "result = adata.uns['rank_genes_groups']\n",
    "groups = result['names'].dtype.names\n",
    "degs_by_cluster = pd.DataFrame({group + '_' + key[:1]: result[key][group]\n",
    "    for group in groups for key in ['names', 'logfoldchanges', 'pvals_adj']})\n",
    "degs_by_cluster.to_csv(\"DEG_adata.csv\")\n",
    "degs_by_cluster[:10]"
   ]
  },
  {
   "cell_type": "code",
   "execution_count": null,
   "id": "da2c3c8e-bc0b-4ee6-8de2-a06ea5401761",
   "metadata": {},
   "outputs": [],
   "source": [
    "sc.pl.rank_genes_groups_heatmap(adata, groupby=['celltype'], n_genes = 10, show_gene_labels=False, dendrogram=False,\n",
    "                                       save='Heatmap.pdf', cmap='bwr')"
   ]
  },
  {
   "cell_type": "code",
   "execution_count": null,
   "id": "e7ba7527-ce67-4a07-9fd2-1ae2183dbfe2",
   "metadata": {},
   "outputs": [],
   "source": [
    "new_cluster_names = [\n",
    "    'CracdWT', 'CracdKO']\n",
    "adata.rename_categories('batch', new_cluster_names)"
   ]
  },
  {
   "cell_type": "code",
   "execution_count": null,
   "id": "b0798587-512f-4bc7-82e6-bb212474367e",
   "metadata": {},
   "outputs": [],
   "source": [
    "sc.pl.umap(adata, color=['batch', 'celltype'],\n",
    "           legend_loc='right margin', frameon=False, add_outline=True, vmin=0, vmax=1, \n",
    "           outline_width=(0.05,0.05), size=50, use_raw=True, cmap='Reds')"
   ]
  }
 ],
 "metadata": {
  "kernelspec": {
   "display_name": "Python 3 (ipykernel)",
   "language": "python",
   "name": "python3"
  },
  "language_info": {
   "codemirror_mode": {
    "name": "ipython",
    "version": 3
   },
   "file_extension": ".py",
   "mimetype": "text/x-python",
   "name": "python",
   "nbconvert_exporter": "python",
   "pygments_lexer": "ipython3",
   "version": "3.8.12"
  }
 },
 "nbformat": 4,
 "nbformat_minor": 5
}
