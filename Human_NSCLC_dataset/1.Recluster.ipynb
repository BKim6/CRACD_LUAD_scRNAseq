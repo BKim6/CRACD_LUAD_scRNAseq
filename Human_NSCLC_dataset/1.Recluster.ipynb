{
 "cells": [
  {
   "cell_type": "code",
   "execution_count": null,
   "id": "bd79870d-cdd7-4c09-b7ba-77dcb1311e55",
   "metadata": {},
   "outputs": [],
   "source": [
    "import numpy as np\n",
    "import pandas as pd\n",
    "import scanpy as sc"
   ]
  },
  {
   "cell_type": "code",
   "execution_count": null,
   "id": "f35173ea-8b11-4ce3-8503-fc3a7acbb194",
   "metadata": {},
   "outputs": [],
   "source": [
    "sc.settings.verbosity = 3             # verbosity: errors (0), warnings (1), info (2), hints (3)\n",
    "sc.logging.print_header()\n",
    "sc.settings.set_figure_params(dpi=100, facecolor='white')"
   ]
  },
  {
   "cell_type": "code",
   "execution_count": null,
   "id": "e0203136-3011-4e18-be39-1f7d3e423a65",
   "metadata": {},
   "outputs": [],
   "source": [
    "adata = sc.read_h5ad('/Users/bkim6/Desktop/BJ/NSCLC_atlas/BJ/adata_tumor.h5ad')"
   ]
  },
  {
   "cell_type": "code",
   "execution_count": null,
   "id": "0b64caaa-0ec3-468d-bb01-1b3c97baf4a9",
   "metadata": {},
   "outputs": [],
   "source": [
    "sc.pl.umap(adata, color=['leiden_1.00'], legend_loc='on data')"
   ]
  },
  {
   "cell_type": "code",
   "execution_count": null,
   "id": "d7e9a010-1d6c-4869-97cf-472b1add977e",
   "metadata": {},
   "outputs": [],
   "source": [
    "adata_15 = adata[adata.obs['leiden_1.00'] == '15']"
   ]
  },
  {
   "cell_type": "code",
   "execution_count": null,
   "id": "e78d07db-e409-4471-8635-00a5c5c0a79c",
   "metadata": {},
   "outputs": [],
   "source": [
    "#subcluster of cluster 15"
   ]
  },
  {
   "cell_type": "code",
   "execution_count": null,
   "id": "b1344b9c-40dd-46be-aea5-4cdfd18b320f",
   "metadata": {},
   "outputs": [],
   "source": [
    "sc.tl.leiden(adata_15, resolution=0.08, key_added='leiden_1.00')"
   ]
  },
  {
   "cell_type": "code",
   "execution_count": null,
   "id": "37a543be-9187-4ad3-a8df-28a54287d283",
   "metadata": {},
   "outputs": [],
   "source": [
    "sc.pl.umap(adata_15, color=['leiden_1.00'], legend_loc='right margin')"
   ]
  },
  {
   "cell_type": "code",
   "execution_count": null,
   "id": "c414b4c1-450b-4726-8481-e31562a5a661",
   "metadata": {},
   "outputs": [],
   "source": [
    "new_cluster_names = ['33', '15', '34']\n",
    "adata_15.rename_categories('leiden_1.00', new_cluster_names)"
   ]
  },
  {
   "cell_type": "code",
   "execution_count": null,
   "id": "cee8e1c7-65f7-4985-ba90-e74c2d858287",
   "metadata": {},
   "outputs": [],
   "source": [
    "sc.pl.umap(adata_15, color=['ASCL1', 'SYP', 'INSM1', 'CALCA', 'BEX1', \n",
    "                           'CHGA', 'SYP'])"
   ]
  },
  {
   "cell_type": "code",
   "execution_count": null,
   "id": "a1f87dd3-4edc-4a1f-a623-96ed7ccff016",
   "metadata": {},
   "outputs": [],
   "source": [
    "adata_subset = adata[adata.obs['leiden_1.00'].isin(['0',\n",
    "    '1',\n",
    "'2',\n",
    "'3',\n",
    "'4',\n",
    "'5',\n",
    "'6',\n",
    "'7',\n",
    "'8',\n",
    "'9',\n",
    "'10',\n",
    "'11',\n",
    "'12',\n",
    "'13',\n",
    "'14',\n",
    "'16',\n",
    "'17',\n",
    "'18',\n",
    "'19',\n",
    "'20',\n",
    "'21',\n",
    "'22',\n",
    "'23',\n",
    "'24',\n",
    "'25',\n",
    "'26',\n",
    "'27',\n",
    "'28',\n",
    "'29',\n",
    "'30',\n",
    "'31',\n",
    "'32'])]"
   ]
  },
  {
   "cell_type": "code",
   "execution_count": null,
   "id": "8979a996-7101-410a-871f-263f3a1e1478",
   "metadata": {},
   "outputs": [],
   "source": [
    "#merge data"
   ]
  },
  {
   "cell_type": "code",
   "execution_count": null,
   "id": "4fa1d9b4-22e3-4754-9ed9-220adbfb0b08",
   "metadata": {},
   "outputs": [],
   "source": [
    "adata_re2 = adata_subset.concatenate(adata_15, index_unique=None, join='outer')"
   ]
  },
  {
   "cell_type": "code",
   "execution_count": null,
   "id": "1ce34ec1-8a95-46ab-99af-865d63ad0c7e",
   "metadata": {},
   "outputs": [],
   "source": [
    "for col in adata_re2.obs.columns:\n",
    "    if pd.api.types.is_categorical_dtype(adata_re2.obs[col]):\n",
    "        adata_re2.obs[col]=adata_re2.obs[col].cat.add_categories(\"selfdefinedNA\").fillna('selfdefinedNA')"
   ]
  },
  {
   "cell_type": "code",
   "execution_count": null,
   "id": "76e0f188-98a0-4808-a6d2-d0d04e96cbd6",
   "metadata": {},
   "outputs": [],
   "source": [
    "sc.pl.umap(adata_re2, color=['leiden_1.00'], legend_loc='on data')"
   ]
  },
  {
   "cell_type": "code",
   "execution_count": null,
   "id": "d4d5b74e-b5d3-4df6-963e-18fdf4cb005c",
   "metadata": {},
   "outputs": [],
   "source": [
    "adata_re2.obs = adata_re2.obs[['sample', 'patient', 'tissue', 'condition', 'dataset', 'cell_type', 'leiden_1.00']]"
   ]
  },
  {
   "cell_type": "code",
   "execution_count": null,
   "id": "6f6aeebe-187f-46dc-b254-14e2f89474ae",
   "metadata": {},
   "outputs": [],
   "source": [
    "adata_re2.write('/Users/bkim6/Desktop/BJ/NSCLC_atlas/BJ/adata_tumor_recluster.h5ad', compression='gzip')"
   ]
  }
 ],
 "metadata": {
  "kernelspec": {
   "display_name": "Python 3 (ipykernel)",
   "language": "python",
   "name": "python3"
  },
  "language_info": {
   "codemirror_mode": {
    "name": "ipython",
    "version": 3
   },
   "file_extension": ".py",
   "mimetype": "text/x-python",
   "name": "python",
   "nbconvert_exporter": "python",
   "pygments_lexer": "ipython3",
   "version": "3.8.12"
  }
 },
 "nbformat": 4,
 "nbformat_minor": 5
}
